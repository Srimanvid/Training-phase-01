{
 "cells": [
  {
   "cell_type": "code",
   "execution_count": null,
   "id": "3130b79b",
   "metadata": {},
   "outputs": [],
   "source": [
    "import numpy as np\n",
    "import pandas as pd\n",
    "from sklearn.linear_model import LinearRegression\n",
    "from sklearn.metrics import mean_squared_error,r2_score\n",
    "from zenml import step\n",
    "@step\n",
    "def ingest_data():\n",
    "    import numpy as np\n",
    "    import pandas as pd\n",
    "    data=pd.DataFrame({'x':np.arange(1,11),'y':np.arange(2,12)+np.random.randn(10)}) \n",
    "    return data\n",
    "@step\n",
    "def clean_data(data: pd.DataFrame):\n",
    "    return data.dropna()\n",
    "@step\n",
    "def train_model(data: pd.DataFrame):\n",
    "    from sklearn.linear_model import LinearRegression\n",
    "    model=LinearRegression()\n",
    "    x=data[['x']]\n",
    "    y=data['y']\n",
    "    model.fit(x,y)\n",
    "    return model\n",
    "@step\n",
    "def eval_model(model: LinearRegression,data: pd.DataFrame):\n",
    "    from sklearn.metrics  import mean_squared_error,r2_score\n",
    "    x=data[['x']]\n",
    "    y=data['y']\n",
    "    predict=model.predict(x)\n",
    "    mse=mean_squared_error(y,predict)\n",
    "    r2=r2_score(y,predict)\n",
    "    print(f'mse:{mse:.2f} r2:{r2}')\n",
    "\n",
    "from zenml import pipeline\n",
    "\n",
    "@pipeline\n",
    "def simple_pipeline(ingest, clean, train, evaluate):\n",
    "    data = ingest()\n",
    "    cleaned_data = clean(data)\n",
    "    model = train(cleaned_data)\n",
    "    evaluate(model, cleaned_data)\n",
    "    \n",
    "    \n",
    "    "
   ]
  }
 ],
 "metadata": {
  "kernelspec": {
   "display_name": "Python 3",
   "language": "python",
   "name": "python3"
  },
  "language_info": {
   "codemirror_mode": {
    "name": "ipython",
    "version": 3
   },
   "file_extension": ".py",
   "mimetype": "text/x-python",
   "name": "python",
   "nbconvert_exporter": "python",
   "pygments_lexer": "ipython3",
   "version": "3.12.6"
  }
 },
 "nbformat": 4,
 "nbformat_minor": 5
}
